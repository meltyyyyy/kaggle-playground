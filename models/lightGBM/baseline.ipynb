{
 "cells": [
  {
   "cell_type": "code",
   "execution_count": 65,
   "metadata": {},
   "outputs": [],
   "source": [
    "import sys\n",
    "from pathlib import Path\n",
    "sys.path.append(str(Path('__file__').resolve().parent.parent.parent))"
   ]
  },
  {
   "cell_type": "code",
   "execution_count": 66,
   "metadata": {},
   "outputs": [],
   "source": [
    "from configs.data import INPUT_DIR, OUTPUT_DIR\n",
    "from configs.lightGBM import Config\n",
    "import pandas as pd\n",
    "import numpy as np\n",
    "import matplotlib.pyplot as plt"
   ]
  },
  {
   "cell_type": "code",
   "execution_count": 67,
   "metadata": {},
   "outputs": [],
   "source": [
    "train = pd.read_csv(INPUT_DIR + 'train.csv')\n",
    "test = pd.read_csv(INPUT_DIR + 'test.csv')"
   ]
  },
  {
   "cell_type": "code",
   "execution_count": 68,
   "metadata": {},
   "outputs": [
    {
     "data": {
      "text/html": [
       "<div>\n",
       "<style scoped>\n",
       "    .dataframe tbody tr th:only-of-type {\n",
       "        vertical-align: middle;\n",
       "    }\n",
       "\n",
       "    .dataframe tbody tr th {\n",
       "        vertical-align: top;\n",
       "    }\n",
       "\n",
       "    .dataframe thead th {\n",
       "        text-align: right;\n",
       "    }\n",
       "</style>\n",
       "<table border=\"1\" class=\"dataframe\">\n",
       "  <thead>\n",
       "    <tr style=\"text-align: right;\">\n",
       "      <th></th>\n",
       "      <th>id</th>\n",
       "      <th>f_00</th>\n",
       "      <th>f_01</th>\n",
       "      <th>f_02</th>\n",
       "      <th>f_03</th>\n",
       "      <th>f_04</th>\n",
       "      <th>f_05</th>\n",
       "      <th>f_06</th>\n",
       "      <th>f_07</th>\n",
       "      <th>f_08</th>\n",
       "      <th>...</th>\n",
       "      <th>f_22</th>\n",
       "      <th>f_23</th>\n",
       "      <th>f_24</th>\n",
       "      <th>f_25</th>\n",
       "      <th>f_26</th>\n",
       "      <th>f_27</th>\n",
       "      <th>f_28</th>\n",
       "      <th>f_29</th>\n",
       "      <th>f_30</th>\n",
       "      <th>target</th>\n",
       "    </tr>\n",
       "  </thead>\n",
       "  <tbody>\n",
       "    <tr>\n",
       "      <th>0</th>\n",
       "      <td>0</td>\n",
       "      <td>-1.373246</td>\n",
       "      <td>0.238887</td>\n",
       "      <td>-0.243376</td>\n",
       "      <td>0.567405</td>\n",
       "      <td>-0.647715</td>\n",
       "      <td>0.839326</td>\n",
       "      <td>0.113133</td>\n",
       "      <td>1</td>\n",
       "      <td>5</td>\n",
       "      <td>...</td>\n",
       "      <td>-2.540739</td>\n",
       "      <td>0.766952</td>\n",
       "      <td>-2.730628</td>\n",
       "      <td>-0.208177</td>\n",
       "      <td>1.363402</td>\n",
       "      <td>ABABDADBAB</td>\n",
       "      <td>67.609153</td>\n",
       "      <td>0</td>\n",
       "      <td>0</td>\n",
       "      <td>0</td>\n",
       "    </tr>\n",
       "    <tr>\n",
       "      <th>1</th>\n",
       "      <td>1</td>\n",
       "      <td>1.697021</td>\n",
       "      <td>-1.710322</td>\n",
       "      <td>-2.230332</td>\n",
       "      <td>-0.545661</td>\n",
       "      <td>1.113173</td>\n",
       "      <td>-1.552175</td>\n",
       "      <td>0.447825</td>\n",
       "      <td>1</td>\n",
       "      <td>3</td>\n",
       "      <td>...</td>\n",
       "      <td>2.278315</td>\n",
       "      <td>-0.633658</td>\n",
       "      <td>-1.217077</td>\n",
       "      <td>-3.782194</td>\n",
       "      <td>-0.058316</td>\n",
       "      <td>ACACCADCEB</td>\n",
       "      <td>377.096415</td>\n",
       "      <td>0</td>\n",
       "      <td>0</td>\n",
       "      <td>1</td>\n",
       "    </tr>\n",
       "    <tr>\n",
       "      <th>2</th>\n",
       "      <td>2</td>\n",
       "      <td>1.681726</td>\n",
       "      <td>0.616746</td>\n",
       "      <td>-1.027689</td>\n",
       "      <td>0.810492</td>\n",
       "      <td>-0.609086</td>\n",
       "      <td>0.113965</td>\n",
       "      <td>-0.708660</td>\n",
       "      <td>1</td>\n",
       "      <td>0</td>\n",
       "      <td>...</td>\n",
       "      <td>-1.385775</td>\n",
       "      <td>-0.520558</td>\n",
       "      <td>-0.009121</td>\n",
       "      <td>2.788536</td>\n",
       "      <td>-3.703488</td>\n",
       "      <td>AAAEABCKAD</td>\n",
       "      <td>-195.599702</td>\n",
       "      <td>0</td>\n",
       "      <td>2</td>\n",
       "      <td>1</td>\n",
       "    </tr>\n",
       "    <tr>\n",
       "      <th>3</th>\n",
       "      <td>3</td>\n",
       "      <td>-0.118172</td>\n",
       "      <td>-0.587835</td>\n",
       "      <td>-0.804638</td>\n",
       "      <td>2.086822</td>\n",
       "      <td>0.371005</td>\n",
       "      <td>-0.128831</td>\n",
       "      <td>-0.282575</td>\n",
       "      <td>3</td>\n",
       "      <td>2</td>\n",
       "      <td>...</td>\n",
       "      <td>0.572594</td>\n",
       "      <td>-1.653213</td>\n",
       "      <td>1.686035</td>\n",
       "      <td>-2.533098</td>\n",
       "      <td>-0.608601</td>\n",
       "      <td>BDBBAACBCB</td>\n",
       "      <td>210.826205</td>\n",
       "      <td>0</td>\n",
       "      <td>0</td>\n",
       "      <td>1</td>\n",
       "    </tr>\n",
       "    <tr>\n",
       "      <th>4</th>\n",
       "      <td>4</td>\n",
       "      <td>1.148481</td>\n",
       "      <td>-0.176567</td>\n",
       "      <td>-0.664871</td>\n",
       "      <td>-1.101343</td>\n",
       "      <td>0.467875</td>\n",
       "      <td>0.500117</td>\n",
       "      <td>0.407515</td>\n",
       "      <td>3</td>\n",
       "      <td>3</td>\n",
       "      <td>...</td>\n",
       "      <td>-3.912929</td>\n",
       "      <td>-1.430366</td>\n",
       "      <td>2.127649</td>\n",
       "      <td>-3.306784</td>\n",
       "      <td>4.371371</td>\n",
       "      <td>BDBCBBCHFE</td>\n",
       "      <td>-217.211798</td>\n",
       "      <td>0</td>\n",
       "      <td>1</td>\n",
       "      <td>1</td>\n",
       "    </tr>\n",
       "  </tbody>\n",
       "</table>\n",
       "<p>5 rows × 33 columns</p>\n",
       "</div>"
      ],
      "text/plain": [
       "   id      f_00      f_01      f_02      f_03      f_04      f_05      f_06  \\\n",
       "0   0 -1.373246  0.238887 -0.243376  0.567405 -0.647715  0.839326  0.113133   \n",
       "1   1  1.697021 -1.710322 -2.230332 -0.545661  1.113173 -1.552175  0.447825   \n",
       "2   2  1.681726  0.616746 -1.027689  0.810492 -0.609086  0.113965 -0.708660   \n",
       "3   3 -0.118172 -0.587835 -0.804638  2.086822  0.371005 -0.128831 -0.282575   \n",
       "4   4  1.148481 -0.176567 -0.664871 -1.101343  0.467875  0.500117  0.407515   \n",
       "\n",
       "   f_07  f_08  ...      f_22      f_23      f_24      f_25      f_26  \\\n",
       "0     1     5  ... -2.540739  0.766952 -2.730628 -0.208177  1.363402   \n",
       "1     1     3  ...  2.278315 -0.633658 -1.217077 -3.782194 -0.058316   \n",
       "2     1     0  ... -1.385775 -0.520558 -0.009121  2.788536 -3.703488   \n",
       "3     3     2  ...  0.572594 -1.653213  1.686035 -2.533098 -0.608601   \n",
       "4     3     3  ... -3.912929 -1.430366  2.127649 -3.306784  4.371371   \n",
       "\n",
       "         f_27        f_28  f_29  f_30  target  \n",
       "0  ABABDADBAB   67.609153     0     0       0  \n",
       "1  ACACCADCEB  377.096415     0     0       1  \n",
       "2  AAAEABCKAD -195.599702     0     2       1  \n",
       "3  BDBBAACBCB  210.826205     0     0       1  \n",
       "4  BDBCBBCHFE -217.211798     0     1       1  \n",
       "\n",
       "[5 rows x 33 columns]"
      ]
     },
     "execution_count": 68,
     "metadata": {},
     "output_type": "execute_result"
    }
   ],
   "source": [
    "train.head()"
   ]
  },
  {
   "cell_type": "code",
   "execution_count": 69,
   "metadata": {},
   "outputs": [
    {
     "name": "stdout",
     "output_type": "stream",
     "text": [
      "<class 'pandas.core.frame.DataFrame'>\n",
      "RangeIndex: 900000 entries, 0 to 899999\n",
      "Data columns (total 33 columns):\n",
      " #   Column  Non-Null Count   Dtype  \n",
      "---  ------  --------------   -----  \n",
      " 0   id      900000 non-null  int64  \n",
      " 1   f_00    900000 non-null  float64\n",
      " 2   f_01    900000 non-null  float64\n",
      " 3   f_02    900000 non-null  float64\n",
      " 4   f_03    900000 non-null  float64\n",
      " 5   f_04    900000 non-null  float64\n",
      " 6   f_05    900000 non-null  float64\n",
      " 7   f_06    900000 non-null  float64\n",
      " 8   f_07    900000 non-null  int64  \n",
      " 9   f_08    900000 non-null  int64  \n",
      " 10  f_09    900000 non-null  int64  \n",
      " 11  f_10    900000 non-null  int64  \n",
      " 12  f_11    900000 non-null  int64  \n",
      " 13  f_12    900000 non-null  int64  \n",
      " 14  f_13    900000 non-null  int64  \n",
      " 15  f_14    900000 non-null  int64  \n",
      " 16  f_15    900000 non-null  int64  \n",
      " 17  f_16    900000 non-null  int64  \n",
      " 18  f_17    900000 non-null  int64  \n",
      " 19  f_18    900000 non-null  int64  \n",
      " 20  f_19    900000 non-null  float64\n",
      " 21  f_20    900000 non-null  float64\n",
      " 22  f_21    900000 non-null  float64\n",
      " 23  f_22    900000 non-null  float64\n",
      " 24  f_23    900000 non-null  float64\n",
      " 25  f_24    900000 non-null  float64\n",
      " 26  f_25    900000 non-null  float64\n",
      " 27  f_26    900000 non-null  float64\n",
      " 28  f_27    900000 non-null  object \n",
      " 29  f_28    900000 non-null  float64\n",
      " 30  f_29    900000 non-null  int64  \n",
      " 31  f_30    900000 non-null  int64  \n",
      " 32  target  900000 non-null  int64  \n",
      "dtypes: float64(16), int64(16), object(1)\n",
      "memory usage: 277.2 MB\n"
     ]
    }
   ],
   "source": [
    "train.info(memory_usage='deep')"
   ]
  },
  {
   "cell_type": "markdown",
   "metadata": {},
   "source": [
    "# Preprocess"
   ]
  },
  {
   "cell_type": "code",
   "execution_count": 70,
   "metadata": {},
   "outputs": [],
   "source": [
    "from sklearn.preprocessing import OrdinalEncoder\n",
    "\n",
    "oe = OrdinalEncoder(handle_unknown='use_encoded_value', unknown_value=-1)\n",
    "oe.fit(train['f_27'].values.reshape(-1,1))\n",
    "train['f_27'] = oe.transform(train['f_27'].values.reshape(-1,1))\n",
    "test['f_27'] = oe.transform(test['f_27'].values.reshape(-1,1))"
   ]
  },
  {
   "cell_type": "markdown",
   "metadata": {},
   "source": [
    "# Train model"
   ]
  },
  {
   "cell_type": "code",
   "execution_count": 71,
   "metadata": {},
   "outputs": [],
   "source": [
    "from sklearn.model_selection import KFold\n",
    "from sklearn.metrics import roc_auc_score\n",
    "import lightgbm as lgbm\n",
    "\n",
    "def fit_lgbm(train, params):\n",
    "    models = []\n",
    "    valid_scores = []\n",
    "    \n",
    "    kf = KFold(n_splits=Config.n_splits)\n",
    "    train_y = train.pop(Config.target)\n",
    "    train_X = train\n",
    "    \n",
    "    for fold, (train_indices, valid_indices) in enumerate(kf.split(X=train_X, y=train_y)):\n",
    "        X_train, X_valid = train_X.iloc[train_indices], train_X.iloc[valid_indices]\n",
    "        y_train, y_valid = train_y.iloc[train_indices], train_y.iloc[valid_indices]\n",
    "        \n",
    "        model = lgbm.LGBMClassifier(**params,\n",
    "                                    boosting_type='gbdt',\n",
    "                                    objective='binary',\n",
    "                                    random_state=Config.seed, \n",
    "                                    verbose=-1)\n",
    "        model.fit(X_train, y_train)\n",
    "        \n",
    "        y_valid_pred = model.predict_proba(X=X_valid)\n",
    "        y_valid_pred = np.argmax(y_valid_pred, axis=1)\n",
    "        score = roc_auc_score(y_true=y_valid, y_score=y_valid_pred)\n",
    "        \n",
    "        print(f'fold {fold} RMSE: {score}')\n",
    "        valid_scores.append(score)\n",
    "        models.append(model)\n",
    "    \n",
    "    cv_score = np.mean(valid_scores)\n",
    "    print(f'CV score: {cv_score}')\n",
    "    return models\n",
    "\n",
    "def inference_lgbm(models, feat):\n",
    "    pred = np.array([model.predict_proba(feat) for model in models])   \n",
    "    pred = np.argmax(np.mean(pred, axis=0) , axis=1)\n",
    "    return pred"
   ]
  },
  {
   "cell_type": "code",
   "execution_count": 72,
   "metadata": {},
   "outputs": [],
   "source": [
    "train.drop(['id'], axis=1, inplace=True)\n",
    "feat = test.drop(['id'], axis=1)"
   ]
  },
  {
   "cell_type": "code",
   "execution_count": 73,
   "metadata": {},
   "outputs": [
    {
     "name": "stdout",
     "output_type": "stream",
     "text": [
      "fold 0 RMSE: 0.8314500504306432\n",
      "fold 1 RMSE: 0.8316707454240342\n",
      "fold 2 RMSE: 0.832934290095813\n",
      "fold 3 RMSE: 0.832360691847257\n",
      "fold 4 RMSE: 0.8308530919487319\n",
      "CV score: 0.8318537739492958\n"
     ]
    }
   ],
   "source": [
    "params = {\n",
    "    'learning_rate': 0.1,\n",
    "    'reg_alpha': 0,\n",
    "    'reg_lambda': 0,\n",
    "    'num_leaves': 31,\n",
    "    'colsample_bytree': 1.0,\n",
    "    'subsample': 1.0,\n",
    "    'subsample_freq': 0,\n",
    "    'min_child_samples': 20\n",
    "}\n",
    "\n",
    "models = fit_lgbm(train=train, params=params)\n",
    "pred = inference_lgbm(models=models, feat=feat)"
   ]
  },
  {
   "cell_type": "markdown",
   "metadata": {},
   "source": [
    "# Postprocess"
   ]
  },
  {
   "cell_type": "code",
   "execution_count": 74,
   "metadata": {},
   "outputs": [],
   "source": [
    "def plot_importances(model):\n",
    "    importance_df = pd.DataFrame(model.feature_importances_, \n",
    "                                 index=model.feature_name_, \n",
    "                                 columns=['importance'])\\\n",
    "                        .sort_values(\"importance\", ascending=False)\n",
    "\n",
    "    plt.subplots(figsize=(len(model.feature_name_) // 4, 5))\n",
    "    plt.bar(importance_df.index, importance_df.importance)\n",
    "    plt.grid()\n",
    "    plt.xticks(rotation=90)\n",
    "    plt.ylabel(\"importance\")\n",
    "    plt.tight_layout()\n",
    "    plt.show()"
   ]
  },
  {
   "cell_type": "code",
   "execution_count": 75,
   "metadata": {},
   "outputs": [
    {
     "data": {
      "image/png": "[encoded data removed]",
      "text/plain": [
       "<Figure size 504x360 with 1 Axes>"
      ]
     },
     "metadata": {
      "needs_background": "light"
     },
     "output_type": "display_data"
    }
   ],
   "source": [
    "plot_importances(model=models[0])"
   ]
  },
  {
   "cell_type": "markdown",
   "metadata": {},
   "source": [
    "# Submission"
   ]
  },
  {
   "cell_type": "code",
   "execution_count": 76,
   "metadata": {},
   "outputs": [],
   "source": [
    "sub = pd.read_csv(INPUT_DIR + 'sample_submission.csv')\n",
    "test[Config.target] = pred\n",
    "sub = test.loc[:, ['id', Config.target]].reset_index(drop=True)\n",
    "sub.to_csv(OUTPUT_DIR + 'lgbm_baseline.csv', index=False)"
   ]
  }
 ],
 "metadata": {
  "interpreter": {
   "hash": "a7c4a48bd27833516dc8cb36a4b44372b03a2767f411e17d984e89cd89a7a494"
  },
  "kernelspec": {
   "display_name": "kpg",
   "language": "python",
   "name": "python3"
  },
  "language_info": {
   "codemirror_mode": {
    "name": "ipython",
    "version": 3
   },
   "file_extension": ".py",
   "mimetype": "text/x-python",
   "name": "python",
   "nbconvert_exporter": "python",
   "pygments_lexer": "ipython3",
   "version": "3.9.7"
  },
  "orig_nbformat": 4
 },
 "nbformat": 4,
 "nbformat_minor": 2
}
